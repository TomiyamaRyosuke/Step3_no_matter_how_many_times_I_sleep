{
 "cells": [
  {
   "cell_type": "code",
   "execution_count": 29,
   "metadata": {
    "collapsed": true
   },
   "outputs": [],
   "source": [
    "from bs4 import BeautifulSoup\n",
    "import requests\n",
    "import pandas as pd\n",
    "\n",
    "\n",
    "url = 'https://www.chintaistyle.jp/pref/01/area_12293_list.html' #サイトのURLを取得\n",
    "user_agent = 'Mozilla/5.0 (Windows NT 10.0; Win64; x64) AppleWebKit/537.36 (KHTML, like Gecko) Chrome/107.0.0.0 Safari/537.36'#ユーザーエージェントを設定\n",
    "header = {\"User-Agent\": user_agent}\n",
    "\n",
    "res = requests.get(url, headers=header)\n",
    "soup = BeautifulSoup(res.text,'html.parser') #BeautifulSoupでresの中身を整える\n",
    "#Sourcetreeの練習20230104"
   ]
  },
  {
   "cell_type": "code",
   "execution_count": 112,
   "metadata": {},
   "outputs": [
    {
     "name": "stdout",
     "output_type": "stream",
     "text": [
      "有 \n",
      "\n",
      "ビレッジハウス白鳥台1号棟 \n",
      "\n",
      "眞島アパート \n",
      "\n",
      "室工 \n",
      "\n",
      "インプレス \n",
      "\n",
      "フォルトゥーナ \n",
      "\n",
      "ビレッジハウス白鳥台1号棟 \n",
      "\n",
      "グリフィンドール \n",
      "\n",
      "サンライズコート \n",
      "\n",
      "ブレイヴ \n",
      "\n",
      "ＴＲ１ \n",
      "\n",
      "室蘭市高砂町5丁目\n",
      "室蘭市白鳥台５丁目\n",
      "室蘭市清水町２丁目\n",
      "室蘭市水元町\n",
      "室蘭市八丁平５丁目\n",
      "室蘭市増市町１丁目\n",
      "室蘭市白鳥台５丁目\n",
      "室蘭市祝津町３丁目\n",
      "室蘭市日の出町２丁目\n",
      "室蘭市八丁平５丁目\n",
      "室蘭市八丁平５丁目\n"
     ]
    }
   ],
   "source": [
    "name_list= []\n",
    "for li_tag in soup.find_all('h2',{'class':'estate-parent-rightTopTD_P2 alignLEFT'}) :\n",
    "    print(li_tag.text)\n",
    "    name_list.append(li_tag.text)\n",
    "\n",
    "address_list=[]\n",
    "for li_tag in soup.find_all('li',{'class':'estate-parent-rightBottomUL1_LI1'}):\n",
    "    print(li_tag.text)\n",
    "    address_list.append(li_tag.text)\n"
   ]
  },
  {
   "cell_type": "code",
   "execution_count": 113,
   "metadata": {},
   "outputs": [
    {
     "name": "stdout",
     "output_type": "stream",
     "text": [
      "                不動産名          住所\n",
      "0               有 \\n   室蘭市高砂町5丁目\n",
      "1   ビレッジハウス白鳥台1号棟 \\n   室蘭市白鳥台５丁目\n",
      "2          眞島アパート \\n   室蘭市清水町２丁目\n",
      "3              室工 \\n      室蘭市水元町\n",
      "4           インプレス \\n   室蘭市八丁平５丁目\n",
      "5         フォルトゥーナ \\n   室蘭市増市町１丁目\n",
      "6   ビレッジハウス白鳥台1号棟 \\n   室蘭市白鳥台５丁目\n",
      "7        グリフィンドール \\n   室蘭市祝津町３丁目\n",
      "8        サンライズコート \\n  室蘭市日の出町２丁目\n",
      "9            ブレイヴ \\n   室蘭市八丁平５丁目\n",
      "10            ＴＲ１ \\n   室蘭市八丁平５丁目\n"
     ]
    }
   ],
   "source": [
    "# データフレームに変換\n",
    "name_df = pd.DataFrame({'不動産名':name_list,'住所':address_list})\n",
    "print(name_df)\n"
   ]
  },
  {
   "cell_type": "code",
   "execution_count": 114,
   "metadata": {},
   "outputs": [],
   "source": [
    "import gspread\n",
    "import json\n",
    "from google.oauth2.service_account import Credentials\n",
    "# お決まりの文句\n",
    "# 2つのAPIを記述しないとリフレッシュトークンを3600秒毎に発行し続けなければならない\n",
    "\n",
    "scope = ['https://www.googleapis.com/auth/spreadsheets','https://www.googleapis.com/auth/drive']\n",
    "#ダウンロードしたjsonファイル名をクレデンシャル変数に設定。\n",
    "credentials = Credentials.from_service_account_file(\"step3-scraping-0939de7585a8.json\", scopes=scope)\n",
    "#OAuth2の資格情報を使用してGoogle APIにログイン。\n",
    "gc = gspread.authorize(credentials)\n",
    "#スプレッドシートIDを変数に格納する。\n",
    "SPREADSHEET_KEY = '16a7uIbpFfWT0mluRNR17jdHStS-KH6riqufvZAufJSo'\n",
    "# スプレッドシート（ブック）を開く\n",
    "workbook = gc.open_by_key(SPREADSHEET_KEY)"
   ]
  },
  {
   "cell_type": "code",
   "execution_count": 115,
   "metadata": {},
   "outputs": [],
   "source": [
    "from gspread_dataframe import set_with_dataframe\n",
    "\n",
    "set_with_dataframe(workbook.worksheet('12/7-13_スクレイピング'), name_df, row = 1, col = 1, include_index=True)\n"
   ]
  }
 ],
 "metadata": {
  "kernelspec": {
   "display_name": "Python 3.6.4 64-bit",
   "language": "python",
   "name": "python3"
  },
  "language_info": {
   "codemirror_mode": {
    "name": "ipython",
    "version": 3
   },
   "file_extension": ".py",
   "mimetype": "text/x-python",
   "name": "python",
   "nbconvert_exporter": "python",
   "pygments_lexer": "ipython3",
   "version": "3.6.4 |Anaconda, Inc.| (default, Jan 16 2018, 10:22:32) [MSC v.1900 64 bit (AMD64)]"
  },
  "vscode": {
   "interpreter": {
    "hash": "0a6a937dacebfd77873fba4ccb2914d74056823c1743d2ef4f0f79c9d9db4a4e"
   }
  }
 },
 "nbformat": 4,
 "nbformat_minor": 2
}
